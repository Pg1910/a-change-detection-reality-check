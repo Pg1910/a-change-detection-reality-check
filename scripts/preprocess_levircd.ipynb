{
 "cells": [
  {
   "cell_type": "code",
   "execution_count": 2,
   "metadata": {},
   "outputs": [
    {
     "name": "stdout",
     "output_type": "stream",
     "text": [
      "Chipping directory A\n"
     ]
    },
    {
     "name": "stderr",
     "output_type": "stream",
     "text": [
      "/home/ubuntu/miniconda3/envs/torchgeo/lib/python3.11/site-packages/image_bbox_slicer/helpers.py:113: UserWarning: Destination ../data/train-chipped/A directory does not exist so creating it now\n",
      "  warnings.warn(\n"
     ]
    },
    {
     "name": "stdout",
     "output_type": "stream",
     "text": [
      "Obtained 7120 image slices!\n",
      "Chipping directory B\n"
     ]
    },
    {
     "name": "stderr",
     "output_type": "stream",
     "text": [
      "/home/ubuntu/miniconda3/envs/torchgeo/lib/python3.11/site-packages/image_bbox_slicer/helpers.py:113: UserWarning: Destination ../data/train-chipped/B directory does not exist so creating it now\n",
      "  warnings.warn(\n"
     ]
    },
    {
     "name": "stdout",
     "output_type": "stream",
     "text": [
      "Obtained 7120 image slices!\n",
      "Chipping directory label\n"
     ]
    },
    {
     "name": "stderr",
     "output_type": "stream",
     "text": [
      "/home/ubuntu/miniconda3/envs/torchgeo/lib/python3.11/site-packages/image_bbox_slicer/helpers.py:113: UserWarning: Destination ../data/train-chipped/label directory does not exist so creating it now\n",
      "  warnings.warn(\n"
     ]
    },
    {
     "name": "stdout",
     "output_type": "stream",
     "text": [
      "Obtained 7120 image slices!\n"
     ]
    }
   ],
   "source": [
    "import os\n",
    "from pathlib import Path\n",
    "\n",
    "from image_bbox_slicer import Slicer\n",
    "from tqdm import tqdm\n",
    "\n",
    "directories = [\"A\", \"B\", \"label\"]\n",
    "root = \"../data/train\"\n",
    "output = \"../data/train-chipped/\"\n",
    "\n",
    "for directory in directories:\n",
    "    print(f\"Chipping directory {directory}\")\n",
    "    slicer = Slicer()\n",
    "    src = os.path.join(root, directory)\n",
    "    dst = os.path.join(output, directory)\n",
    "    slicer.config_image_dirs(img_src=src, img_dst=dst)\n",
    "    slicer.slice_images_by_size(tile_size=(256, 256), tile_overlap=0)"
   ]
  },
  {
   "cell_type": "code",
   "execution_count": 3,
   "metadata": {},
   "outputs": [
    {
     "data": {
      "text/plain": [
       "['A', 'B', 'label']"
      ]
     },
     "execution_count": 3,
     "metadata": {},
     "output_type": "execute_result"
    }
   ],
   "source": [
    "directories"
   ]
  },
  {
   "cell_type": "code",
   "execution_count": 4,
   "metadata": {},
   "outputs": [
    {
     "name": "stderr",
     "output_type": "stream",
     "text": [
      "  0%|          | 0/7120 [00:00<?, ?it/s]"
     ]
    },
    {
     "name": "stderr",
     "output_type": "stream",
     "text": [
      "100%|██████████| 7120/7120 [00:00<00:00, 24150.23it/s]\n",
      "100%|██████████| 7120/7120 [00:00<00:00, 21067.20it/s]\n",
      "100%|██████████| 7120/7120 [00:00<00:00, 18317.66it/s]\n"
     ]
    }
   ],
   "source": [
    "root = Path(\"../data/train-chipped/\")\n",
    "\n",
    "for directory in directories:\n",
    "    path = root / directory\n",
    "    files = list(path.glob(\"*.png\"))\n",
    "    for f in tqdm(files):\n",
    "        dst = path / f\"train_{f.name}\"\n",
    "        _ = f.rename(dst)"
   ]
  }
 ],
 "metadata": {
  "kernelspec": {
   "display_name": "torchgeo",
   "language": "python",
   "name": "python3"
  },
  "language_info": {
   "codemirror_mode": {
    "name": "ipython",
    "version": 3
   },
   "file_extension": ".py",
   "mimetype": "text/x-python",
   "name": "python",
   "nbconvert_exporter": "python",
   "pygments_lexer": "ipython3",
   "version": "3.11.11"
  }
 },
 "nbformat": 4,
 "nbformat_minor": 2
}
